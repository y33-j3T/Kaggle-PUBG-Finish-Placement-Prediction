{
 "cells": [
  {
   "cell_type": "code",
   "execution_count": null,
   "metadata": {
    "_cell_guid": "b1076dfc-b9ad-4769-8c92-a6c4dae69d19",
    "_uuid": "8f2839f25d086af736a60e9eeb907d3b93b6e0e5"
   },
   "outputs": [],
   "source": [
    "import numpy as np \n",
    "import pandas as pd \n",
    "\n",
    "import os\n",
    "print(os.listdir(\"../input\"))"
   ]
  },
  {
   "cell_type": "code",
   "execution_count": null,
   "metadata": {
    "_cell_guid": "79c7e3d0-c299-4dcb-8224-4455121ee9b0",
    "_uuid": "d629ff2d2480ee46fbb7e2d37f6b5fab8052498a"
   },
   "outputs": [],
   "source": [
    "df_train = pd.read_csv(\"../input/train_V2.csv\")\n",
    "df_test = pd.read_csv(\"../input/test_V2.csv\")\n",
    "\n",
    "df_train = df_train.dropna(axis=0)\n",
    "df_test = df_test.dropna(axis=0)\n",
    "\n",
    "features = df_train.columns.drop([\"winPlacePerc\", \"Id\", \"groupId\", \"matchId\"])\n",
    "train_X = df_train[features]\n",
    "train_y = df_train['winPlacePerc']\n",
    "test_X = df_test[features]\n",
    "\n",
    "#one hot encode\n",
    "train_X = pd.get_dummies(train_X)\n",
    "test_X = pd.get_dummies(test_X)"
   ]
  },
  {
   "cell_type": "code",
   "execution_count": null,
   "metadata": {
    "_uuid": "18ac82dcd67776dae7bc8fa0b9b925b2cbc7ee35"
   },
   "outputs": [],
   "source": [
    "from xgboost import XGBRegressor\n",
    "# learningrate 0.01, maxdepth 6, colsamplebytree 1, nestimators 1000\n",
    "XGBRegressor_model = XGBRegressor(base_score=0.5, booster='gbtree', colsample_bylevel=1,\n",
    "       colsample_bytree=1, gamma=0, learning_rate=0.01, max_delta_step=0,\n",
    "       max_depth=6, min_child_weight=1, missing=None, n_estimators=1000,\n",
    "       n_jobs=1, nthread=None, objective='reg:linear', random_state=42,\n",
    "       reg_alpha=0, reg_lambda=1, scale_pos_weight=1, seed=None,\n",
    "       silent=0, subsample=1 )\n",
    "XGBRegressor_model.fit(train_X, train_y, verbose=False)\n",
    "predict_y = XGBRegressor_model.predict(test_X)"
   ]
  },
  {
   "cell_type": "code",
   "execution_count": null,
   "metadata": {
    "_uuid": "ee0cd0d6701e41d300dfb309f117822e04236919"
   },
   "outputs": [],
   "source": [
    "output = pd.DataFrame({'Id': df_test.Id,\n",
    "                       'winPlacePerc': predict_y})\n",
    "\n",
    "output.to_csv('submission.csv', index=False)\n",
    "output"
   ]
  }
 ],
 "metadata": {
  "kernelspec": {
   "display_name": "Python 3",
   "language": "python",
   "name": "python3"
  },
  "language_info": {
   "codemirror_mode": {
    "name": "ipython",
    "version": 3
   },
   "file_extension": ".py",
   "mimetype": "text/x-python",
   "name": "python",
   "nbconvert_exporter": "python",
   "pygments_lexer": "ipython3",
   "version": "3.7.3"
  }
 },
 "nbformat": 4,
 "nbformat_minor": 1
}
