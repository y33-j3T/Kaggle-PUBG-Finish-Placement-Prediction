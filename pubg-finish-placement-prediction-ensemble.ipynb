{
 "cells": [
  {
   "cell_type": "markdown",
   "metadata": {},
   "source": [
    "#  PUBG Finish Placement Prediction (ENSEMBLE)\n",
    "In this ensemble model, I am not using outputs from my own models.\n",
    "Instead, I'll be using outputs from several models:\n",
    "- [MLP](https://www.kaggle.com/harshitsheoran/mlp-and-fe)\n",
    "- [LightGBM](https://www.kaggle.com/chocozzz/lightgbm-baseline)\n",
    "- [PyTorch](https://www.kaggle.com/ceshine/pytorch-baseline-model)\n",
    "\n"
   ]
  },
  {
   "cell_type": "markdown",
   "metadata": {},
   "source": [
    "## Import dependencies"
   ]
  },
  {
   "cell_type": "code",
   "execution_count": null,
   "metadata": {
    "_cell_guid": "b1076dfc-b9ad-4769-8c92-a6c4dae69d19",
    "_uuid": "8f2839f25d086af736a60e9eeb907d3b93b6e0e5"
   },
   "outputs": [],
   "source": [
    "import numpy as np \n",
    "import pandas as pd \n",
    "\n",
    "import os\n",
    "print(os.listdir(\"../input\"))"
   ]
  },
  {
   "cell_type": "code",
   "execution_count": null,
   "metadata": {},
   "outputs": [],
   "source": [
    "df_sub1 = pd.read_csv(\"../input/pytorch-baseline-model/submission_raw.csv\")\n",
    "df_sub2 = pd.read_csv(\"../input/lightgbm-baseline/submission_adjusted.csv\")\n",
    "df_sub3 = pd.read_csv(\"../input/mlp-and-fe/submission.csv\")\n",
    "df_test = pd.read_csv(\"../input/pubg-finish-placement-prediction/test_V2.csv\")"
   ]
  },
  {
   "cell_type": "code",
   "execution_count": null,
   "metadata": {},
   "outputs": [],
   "source": [
    "# restore some columns\n",
    "df_sub1 = df_sub1.merge(df_test[[\"Id\", \"matchId\", \"groupId\", \"maxPlace\", \"numGroups\"]], on=\"Id\",how=\"left\")"
   ]
  },
  {
   "cell_type": "code",
   "execution_count": null,
   "metadata": {},
   "outputs": [],
   "source": [
    "# sort, rank and assign adjusted ratio\n",
    "df_sub1_group = df_sub1.groupby([\"matchId\", \"groupId\"]).first().reset_index()\n",
    "df_sub1_group[\"rank\"] = df_sub1_group.groupby([\"matchId\"])[\"winPlacePerc\"].rank()\n",
    "df_sub1_group = df_sub1_group.merge(\n",
    "    df_sub1_group.groupby(\"matchId\")[\"rank\"].max().to_frame(\"max_rank\").reset_index(), \n",
    "    on=\"matchId\", how=\"left\")\n",
    "df_sub1_group[\"adjusted_perc\"] = (df_sub1_group[\"rank\"] - 1) / (df_sub1_group[\"numGroups\"] - 1)\n",
    "df_sub1 = df_sub1.merge(df_sub1_group[[\"adjusted_perc\", \"matchId\", \"groupId\"]], on=[\"matchId\", \"groupId\"], how=\"left\")\n",
    "df_sub1[\"winPlacePerc\"] = df_sub1[\"adjusted_perc\"]"
   ]
  },
  {
   "cell_type": "code",
   "execution_count": null,
   "metadata": {},
   "outputs": [],
   "source": [
    "# Deal with edge cases\n",
    "df_sub1.loc[df_sub1.maxPlace == 0, \"winPlacePerc\"] = 0\n",
    "df_sub1.loc[df_sub1.maxPlace == 1, \"winPlacePerc\"] = 1"
   ]
  },
  {
   "cell_type": "code",
   "execution_count": null,
   "metadata": {},
   "outputs": [],
   "source": [
    "# Align with maxPlace\n",
    "subset = df_sub1.loc[df_sub1.maxPlace > 1]\n",
    "gap = 1.0 / (subset.maxPlace.values - 1)\n",
    "new_perc = np.around(subset.winPlacePerc.values / gap) * gap\n",
    "df_sub1.loc[df_sub1.maxPlace > 1, \"winPlacePerc\"] = new_perc"
   ]
  },
  {
   "cell_type": "code",
   "execution_count": null,
   "metadata": {},
   "outputs": [],
   "source": [
    "# Edge case\n",
    "df_sub1.loc[(df_sub1.maxPlace > 1) & (df_sub1.numGroups == 1), \"winPlacePerc\"] = 0\n",
    "assert df_sub1[\"winPlacePerc\"].isnull().sum() == 0"
   ]
  },
  {
   "cell_type": "code",
   "execution_count": null,
   "metadata": {},
   "outputs": [],
   "source": [
    "df_sub1[\"winPlacePerc\"] = (df_sub1[\"winPlacePerc\"] + df_sub2[\"winPlacePerc\"] + df_sub3[\"winPlacePerc\"]) / 3\n",
    "df_sub1 = df_sub1[[\"Id\", \"winPlacePerc\"]]"
   ]
  },
  {
   "cell_type": "code",
   "execution_count": null,
   "metadata": {},
   "outputs": [],
   "source": [
    "df_test = pd.read_csv(\"../input/pubg-finish-placement-prediction/test_V2.csv\")"
   ]
  },
  {
   "cell_type": "code",
   "execution_count": null,
   "metadata": {},
   "outputs": [],
   "source": [
    "# restore some columns\n",
    "df_sub1 = df_sub1.merge(df_test[[\"Id\", \"matchId\", \"groupId\", \"maxPlace\", \"numGroups\"]], on=\"Id\",how=\"left\")"
   ]
  },
  {
   "cell_type": "code",
   "execution_count": null,
   "metadata": {},
   "outputs": [],
   "source": [
    "# sort, rank and assign adjusted ratio\n",
    "df_sub1_group = df_sub1.groupby([\"matchId\", \"groupId\"]).first().reset_index()\n",
    "df_sub1_group[\"rank\"] = df_sub1_group.groupby([\"matchId\"])[\"winPlacePerc\"].rank()\n",
    "df_sub1_group = df_sub1_group.merge(\n",
    "    df_sub1_group.groupby(\"matchId\")[\"rank\"].max().to_frame(\"max_rank\").reset_index(), \n",
    "    on=\"matchId\", how=\"left\")\n",
    "df_sub1_group[\"adjusted_perc\"] = (df_sub1_group[\"rank\"] - 1) / (df_sub1_group[\"numGroups\"] - 1)\n",
    "df_sub1 = df_sub1.merge(df_sub1_group[[\"adjusted_perc\", \"matchId\", \"groupId\"]], on=[\"matchId\", \"groupId\"], how=\"left\")\n",
    "df_sub1[\"winPlacePerc\"] = df_sub1[\"adjusted_perc\"]"
   ]
  },
  {
   "cell_type": "code",
   "execution_count": null,
   "metadata": {},
   "outputs": [],
   "source": [
    "# Deal with edge cases\n",
    "df_sub1.loc[df_sub1.maxPlace == 0, \"winPlacePerc\"] = 0\n",
    "df_sub1.loc[df_sub1.maxPlace == 1, \"winPlacePerc\"] = 1"
   ]
  },
  {
   "cell_type": "code",
   "execution_count": null,
   "metadata": {},
   "outputs": [],
   "source": [
    "# Align with maxPlace\n",
    "subset = df_sub1.loc[df_sub1.maxPlace > 1]\n",
    "gap = 1.0 / (subset.maxPlace.values - 1)\n",
    "new_perc = np.around(subset.winPlacePerc.values / gap) * gap\n",
    "df_sub1.loc[df_sub1.maxPlace > 1, \"winPlacePerc\"] = new_perc"
   ]
  },
  {
   "cell_type": "code",
   "execution_count": null,
   "metadata": {},
   "outputs": [],
   "source": [
    "# Edge case\n",
    "df_sub1.loc[(df_sub1.maxPlace > 1) & (df_sub1.numGroups == 1), \"winPlacePerc\"] = 0\n",
    "assert df_sub1[\"winPlacePerc\"].isnull().sum() == 0"
   ]
  },
  {
   "cell_type": "code",
   "execution_count": null,
   "metadata": {},
   "outputs": [],
   "source": [
    "df_sub1[\"winPlacePerc\"] = df_sub1[\"winPlacePerc\"]"
   ]
  },
  {
   "cell_type": "code",
   "execution_count": null,
   "metadata": {},
   "outputs": [],
   "source": [
    "df_sub1[[\"Id\", \"winPlacePerc\"]].to_csv(\"submission.csv\", index=False)"
   ]
  }
 ],
 "metadata": {
  "kernelspec": {
   "display_name": "Python 3",
   "language": "python",
   "name": "python3"
  },
  "language_info": {
   "codemirror_mode": {
    "name": "ipython",
    "version": 3
   },
   "file_extension": ".py",
   "mimetype": "text/x-python",
   "name": "python",
   "nbconvert_exporter": "python",
   "pygments_lexer": "ipython3",
   "version": "3.7.3"
  }
 },
 "nbformat": 4,
 "nbformat_minor": 1
}
