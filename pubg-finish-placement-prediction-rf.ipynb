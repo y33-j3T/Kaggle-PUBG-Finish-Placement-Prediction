{
 "cells": [
  {
   "cell_type": "markdown",
   "metadata": {
    "colab_type": "text",
    "id": "view-in-github"
   },
   "source": [
    "<a href=\"https://colab.research.google.com/github/y33-j3T/Kaggle-PUBG-Finish-Placement-Prediction/blob/master/pubg-finish-placement-prediction-rf.ipynb\" target=\"_parent\"><img src=\"https://colab.research.google.com/assets/colab-badge.svg\" alt=\"Open In Colab\"/></a>"
   ]
  },
  {
   "cell_type": "code",
   "execution_count": 0,
   "metadata": {
    "_cell_guid": "b1076dfc-b9ad-4769-8c92-a6c4dae69d19",
    "_uuid": "8f2839f25d086af736a60e9eeb907d3b93b6e0e5",
    "colab": {},
    "colab_type": "code",
    "id": "lpuFcd-vz10y"
   },
   "outputs": [],
   "source": [
    "import numpy as np \n",
    "import pandas as pd \n",
    "\n",
    "import os\n",
    "print(os.listdir(\"../input\"))"
   ]
  },
  {
   "cell_type": "code",
   "execution_count": 0,
   "metadata": {
    "_cell_guid": "79c7e3d0-c299-4dcb-8224-4455121ee9b0",
    "_uuid": "d629ff2d2480ee46fbb7e2d37f6b5fab8052498a",
    "colab": {},
    "colab_type": "code",
    "id": "PF2xSuncz103"
   },
   "outputs": [],
   "source": [
    "df_train = pd.read_csv(\"../input/train_V2.csv\")\n",
    "df_test = pd.read_csv(\"../input/test_V2.csv\")\n",
    "print(df_train.head())\n",
    "print(df_test.head())"
   ]
  },
  {
   "cell_type": "code",
   "execution_count": 0,
   "metadata": {
    "_uuid": "0cecfaec3f12926d82ab8cc855c85a658288ca55",
    "colab": {},
    "colab_type": "code",
    "id": "PfMIqP8gz105"
   },
   "outputs": [],
   "source": [
    "df_train.info()"
   ]
  },
  {
   "cell_type": "code",
   "execution_count": 0,
   "metadata": {
    "_uuid": "14ec1ce976fbe1031d71a636befefba76e48d5d7",
    "colab": {},
    "colab_type": "code",
    "id": "AsCmwHVTz108"
   },
   "outputs": [],
   "source": [
    "df_test.info()"
   ]
  },
  {
   "cell_type": "code",
   "execution_count": 0,
   "metadata": {
    "_uuid": "41171cb8fa404a4470e4a18d9cfb5eca47fe5bff",
    "colab": {},
    "colab_type": "code",
    "id": "1t4LhYFaz10-"
   },
   "outputs": [],
   "source": [
    "print(\"No. of rows in train set: \", len(df_train))\n",
    "print(\"No. of rows in test set: \", len(df_test))"
   ]
  },
  {
   "cell_type": "code",
   "execution_count": 0,
   "metadata": {
    "_uuid": "5d378e52dc31a5a21fc0cebd22c617353221f247",
    "colab": {},
    "colab_type": "code",
    "id": "Fs3c977Hz11B"
   },
   "outputs": [],
   "source": [
    "df_train = df_train.dropna(axis=0)\n",
    "df_test = df_test.dropna(axis=0)\n",
    "print(\"No. of rows in train set: \", len(df_train))\n",
    "print(\"No. of rows in test set: \", len(df_test))"
   ]
  },
  {
   "cell_type": "code",
   "execution_count": 0,
   "metadata": {
    "_uuid": "541a72fbc8348a6e9424c1587b703e85d5056fb2",
    "colab": {},
    "colab_type": "code",
    "id": "mCHgKSYpz11D"
   },
   "outputs": [],
   "source": [
    "# features = df_train.columns.drop([\"winPlacePerc\", \"Id\", \"groupId\", \"matchId\"])\n",
    "features = ['walkDistance', 'killPlace', 'boosts', 'weaponsAcquired']\n",
    "train_X = df_train[features]\n",
    "train_y = df_train['winPlacePerc']\n",
    "test_X = df_test[features]\n",
    "\n",
    "#one hot encode\n",
    "train_X = pd.get_dummies(train_X)\n",
    "test_X = pd.get_dummies(test_X)"
   ]
  },
  {
   "cell_type": "code",
   "execution_count": 0,
   "metadata": {
    "_uuid": "257264844bbe64d85b410f25df8439fa3d7803dc",
    "colab": {},
    "colab_type": "code",
    "id": "LR_s_eCcz11G"
   },
   "outputs": [],
   "source": [
    "from sklearn.ensemble import RandomForestRegressor\n",
    "\n",
    "forest_model = RandomForestRegressor(random_state=42)\n",
    "forest_model.fit(train_X, train_y)\n",
    "predict_y = forest_model.predict(test_X)\n",
    "predict_y"
   ]
  },
  {
   "cell_type": "code",
   "execution_count": 0,
   "metadata": {
    "_uuid": "d943d8e9630f24911007f4d9e0b71e098271e822",
    "colab": {},
    "colab_type": "code",
    "id": "UfHzbKS6z11J"
   },
   "outputs": [],
   "source": [
    "output = pd.DataFrame({'Id': df_test.Id,\n",
    "                       'winPlacePerc': predict_y})\n",
    "\n",
    "output.to_csv('submission.csv', index=False)\n",
    "output"
   ]
  }
 ],
 "metadata": {
  "colab": {
   "include_colab_link": true,
   "name": "pubg-finish-placement-prediction-rf.ipynb",
   "provenance": [],
   "version": "0.3.2"
  },
  "kernelspec": {
   "display_name": "Python 3",
   "language": "python",
   "name": "python3"
  },
  "language_info": {
   "codemirror_mode": {
    "name": "ipython",
    "version": 3
   },
   "file_extension": ".py",
   "mimetype": "text/x-python",
   "name": "python",
   "nbconvert_exporter": "python",
   "pygments_lexer": "ipython3",
   "version": "3.7.3"
  }
 },
 "nbformat": 4,
 "nbformat_minor": 1
}
